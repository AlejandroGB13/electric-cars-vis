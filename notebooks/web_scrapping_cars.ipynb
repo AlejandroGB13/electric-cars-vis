{
 "cells": [
  {
   "cell_type": "markdown",
   "id": "50fb4775",
   "metadata": {},
   "source": [
    "# Visualización de datos (UOC)"
   ]
  },
  {
   "cell_type": "markdown",
   "id": "0ebafdee",
   "metadata": {},
   "source": [
    "Se pretende extender conjunto de datos extraído de https://data.wa.gov/Transportation/Electric-Vehicle-Population-Data/f6w7-q2d2/data, donde se presentan poco datos numéricos.\n",
    "Se ha encontrado la siguiente web: https://ev-database.org, donde hay una descripción detallada de las características de cada vehículo eléctrico."
   ]
  },
  {
   "cell_type": "code",
   "execution_count": 1,
   "id": "2dccd881",
   "metadata": {},
   "outputs": [],
   "source": [
    "import pandas as pd\n",
    "import requests\n",
    "from bs4 import BeautifulSoup\n",
    "import nltk\n",
    "import numpy as np\n",
    "import re\n",
    "import urllib.parse\n",
    "import seaborn as sns\n",
    "import matplotlib.pyplot as plt"
   ]
  },
  {
   "cell_type": "code",
   "execution_count": 2,
   "id": "5b7b6ee7",
   "metadata": {},
   "outputs": [
    {
     "name": "stderr",
     "output_type": "stream",
     "text": [
      "[nltk_data] Downloading package punkt to\n",
      "[nltk_data]     C:\\Users\\Alejandro\\AppData\\Roaming\\nltk_data...\n",
      "[nltk_data]   Package punkt is already up-to-date!\n"
     ]
    },
    {
     "data": {
      "text/plain": [
       "True"
      ]
     },
     "execution_count": 2,
     "metadata": {},
     "output_type": "execute_result"
    }
   ],
   "source": [
    "nltk.download('punkt')"
   ]
  },
  {
   "cell_type": "markdown",
   "id": "01c6510d",
   "metadata": {},
   "source": [
    "# Construir nuevo dataset"
   ]
  },
  {
   "cell_type": "markdown",
   "id": "4f8701ec",
   "metadata": {},
   "source": [
    "Creamos las nuevas columnas con datos numéricos a añadir"
   ]
  },
  {
   "cell_type": "code",
   "execution_count": 3,
   "id": "d239e059",
   "metadata": {},
   "outputs": [],
   "source": [
    "df = pd.read_csv('./Electric_Vehicle_Population_Data.csv')\n",
    "df['0-100 (s)'] = np.nan\n",
    "df['VMax (km/h)'] = np.nan\n",
    "df['Range (km)'] = np.nan\n",
    "df['Batteries capacity (kWh)'] = np.nan\n",
    "df['Efficiency (Wh/km)'] = np.nan\n",
    "df['Price (€)'] = np.nan"
   ]
  },
  {
   "cell_type": "markdown",
   "id": "1c8bb119",
   "metadata": {},
   "source": [
    "Comprovamos y eliminamos las filas donde la columna Modelo contiene NaN's o NULL's."
   ]
  },
  {
   "cell_type": "code",
   "execution_count": 4,
   "id": "5fe2f5ec",
   "metadata": {},
   "outputs": [
    {
     "data": {
      "text/plain": [
       "84"
      ]
     },
     "execution_count": 4,
     "metadata": {},
     "output_type": "execute_result"
    }
   ],
   "source": [
    "df['Model'].isnull().sum()"
   ]
  },
  {
   "cell_type": "code",
   "execution_count": 5,
   "id": "147b8590",
   "metadata": {},
   "outputs": [],
   "source": [
    "df=df.dropna(subset=['Model'])"
   ]
  },
  {
   "cell_type": "code",
   "execution_count": 6,
   "id": "dfa2fef8",
   "metadata": {},
   "outputs": [
    {
     "data": {
      "text/plain": [
       "0"
      ]
     },
     "execution_count": 6,
     "metadata": {},
     "output_type": "execute_result"
    }
   ],
   "source": [
    "df['Model'].isnull().sum()"
   ]
  },
  {
   "cell_type": "markdown",
   "id": "94be7c3b",
   "metadata": {},
   "source": [
    "## Web scrapping"
   ]
  },
  {
   "cell_type": "code",
   "execution_count": 7,
   "id": "323891a8",
   "metadata": {},
   "outputs": [],
   "source": [
    "%%capture\n",
    "basepath = 'https://ev-database.org'\n",
    "\n",
    "def remove_characters(s):\n",
    "    if ',' in s:\n",
    "        s = s.replace(',', '')\n",
    "    return re.sub(\"[^0123456789\\.]\", \"\", s)\n",
    "\n",
    "car_list = []\n",
    "\n",
    "i = 0\n",
    "\n",
    "for index, row in df.iterrows():\n",
    "    if row['Electric Vehicle Type'] == 'Battery Electric Vehicle (BEV)':\n",
    "        print('Seteando el modelo {} de la marca {}.'.format(row['Model'], row['Make']))\n",
    "        car = row['Make'].lower() + ' ' + row['Model'].lower()\n",
    "        if row['Model'] + ' ' + row['Make'] in car_list:\n",
    "            print('Already setted')\n",
    "        else:\n",
    "            print('Seteando el modelo {} de la marca {}.'.format(row['Model'], row['Make']))\n",
    "            all_rows = df[(df['Make'] == row['Make']) & (df['Model'] == row['Model'])]\n",
    "            car_list.append(row['Model'] + ' '+ row['Make'])\n",
    "\n",
    "            encoded_string = urllib.parse.quote(row['Make'] + ' ' + row['Model'] + '\"')\n",
    "            url = basepath + '/#title-filter:value=\"' + encoded_string\n",
    "            print(url)\n",
    "            response = requests.get(url)\n",
    "            soup = BeautifulSoup(response.content, 'html.parser')\n",
    "            list_items = soup.find_all('div', class_='list-item')\n",
    "#             print(list_items)\n",
    "            for item in list_items:\n",
    "                sentences = nltk.sent_tokenize(item.text)\n",
    "                for sentence in sentences:\n",
    "                    sentence = sentence.strip() \n",
    "                    sentences = sentence.split('\\n')\n",
    "                    cleaned_list = list(filter(None, sentences))\n",
    "#                     print(cleaned_list[0].lower())\n",
    "#                     print(car)\n",
    "                    if car in cleaned_list[0].lower():\n",
    "#                         print(cleaned_list[0])\n",
    "    #                 print(cleaned_list)\n",
    "                        for idx, s in enumerate(cleaned_list):\n",
    "                            if '0 - 100' in s:\n",
    "                                print(cleaned_list[idx+1])\n",
    "                                all_rows['0-100 (s)'] = remove_characters(cleaned_list[idx+1])\n",
    "                            if 'Top Speed' in s:\n",
    "                                all_rows['VMax (km/h)'] = remove_characters(cleaned_list[idx+1])\n",
    "                            if 'Range*' in s:\n",
    "                                all_rows['Range (km)'] = remove_characters(cleaned_list[idx+1])\n",
    "                            if 'kWh' in s:\n",
    "                                all_rows['Batteries capacity (kWh)'] = remove_characters(cleaned_list[idx])\n",
    "                            if 'Wh/km' in s:\n",
    "                                all_rows['Efficiency (Wh/km)'] = remove_characters(cleaned_list[idx])\n",
    "                            if '€' in s:\n",
    "                                all_rows['Price (€)'] = remove_characters(cleaned_list[idx+1])\n",
    "                                break\n",
    "                        break      \n",
    "#                 break\n",
    "            df.update(all_rows)\n",
    "#         i = i + 1\n",
    "#         if i == 2:\n",
    "#             break"
   ]
  },
  {
   "cell_type": "markdown",
   "id": "0735eb82",
   "metadata": {},
   "source": [
    "Eliminamos los coches que no son eléctricos"
   ]
  },
  {
   "cell_type": "code",
   "execution_count": 8,
   "id": "b920f3d1",
   "metadata": {},
   "outputs": [],
   "source": [
    "df = df[df[\"Electric Vehicle Type\"] != \"Plug-in Hybrid Electric Vehicle (PHEV)\"]\n",
    "# print(df)"
   ]
  },
  {
   "cell_type": "code",
   "execution_count": 9,
   "id": "48a0ecdf",
   "metadata": {},
   "outputs": [],
   "source": [
    "df = df.reset_index()"
   ]
  },
  {
   "cell_type": "code",
   "execution_count": 10,
   "id": "2fd9af67",
   "metadata": {},
   "outputs": [
    {
     "data": {
      "text/plain": [
       "index                                                  int64\n",
       "VIN (1-10)                                            object\n",
       "County                                                object\n",
       "City                                                  object\n",
       "State                                                 object\n",
       "Postal Code                                          float64\n",
       "Model Year                                           float64\n",
       "Make                                                  object\n",
       "Model                                                 object\n",
       "Electric Vehicle Type                                 object\n",
       "Clean Alternative Fuel Vehicle (CAFV) Eligibility     object\n",
       "Electric Range                                       float64\n",
       "Base MSRP                                            float64\n",
       "Legislative District                                 float64\n",
       "DOL Vehicle ID                                       float64\n",
       "Vehicle Location                                      object\n",
       "Electric Utility                                      object\n",
       "2020 Census Tract                                    float64\n",
       "0-100 (s)                                             object\n",
       "VMax (km/h)                                           object\n",
       "Range (km)                                            object\n",
       "Batteries capacity (kWh)                              object\n",
       "Efficiency (Wh/km)                                    object\n",
       "Price (€)                                             object\n",
       "dtype: object"
      ]
     },
     "execution_count": 10,
     "metadata": {},
     "output_type": "execute_result"
    }
   ],
   "source": [
    "cols_to_plot = [18,19,20,21,22,23]\n",
    "df_subset = df.iloc[:, cols_to_plot]\n",
    "df.dtypes"
   ]
  },
  {
   "cell_type": "code",
   "execution_count": 11,
   "id": "6ab33b26",
   "metadata": {},
   "outputs": [],
   "source": [
    "df.to_csv('./test.csv', sep=',')"
   ]
  }
 ],
 "metadata": {
  "kernelspec": {
   "display_name": "Python 3 (ipykernel)",
   "language": "python",
   "name": "python3"
  },
  "language_info": {
   "codemirror_mode": {
    "name": "ipython",
    "version": 3
   },
   "file_extension": ".py",
   "mimetype": "text/x-python",
   "name": "python",
   "nbconvert_exporter": "python",
   "pygments_lexer": "ipython3",
   "version": "3.11.0"
  }
 },
 "nbformat": 4,
 "nbformat_minor": 5
}
